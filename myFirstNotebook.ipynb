{
 "cells": [
  {
   "cell_type": "code",
   "execution_count": 1,
   "metadata": {},
   "outputs": [],
   "source": [
    "import pandas as pd\n",
    "import matplotlib.pyplot as plt\n",
    "import seaborn as sns\n",
    "sns.set(style=\"darkgrid\")"
   ]
  },
  {
   "cell_type": "code",
   "execution_count": 2,
   "metadata": {},
   "outputs": [],
   "source": [
    "df = pd.read_csv('fortune500.csv')"
   ]
  },
  {
   "cell_type": "code",
   "execution_count": 3,
   "metadata": {},
   "outputs": [],
   "source": [
    "df.columns = ['year', 'rank', 'company', 'revenue', 'profit']"
   ]
  },
  {
   "cell_type": "code",
   "execution_count": 4,
   "metadata": {},
   "outputs": [
    {
     "data": {
      "text/html": [
       "<div>\n",
       "<style scoped>\n",
       "    .dataframe tbody tr th:only-of-type {\n",
       "        vertical-align: middle;\n",
       "    }\n",
       "\n",
       "    .dataframe tbody tr th {\n",
       "        vertical-align: top;\n",
       "    }\n",
       "\n",
       "    .dataframe thead th {\n",
       "        text-align: right;\n",
       "    }\n",
       "</style>\n",
       "<table border=\"1\" class=\"dataframe\">\n",
       "  <thead>\n",
       "    <tr style=\"text-align: right;\">\n",
       "      <th></th>\n",
       "      <th>year</th>\n",
       "      <th>rank</th>\n",
       "      <th>company</th>\n",
       "      <th>revenue</th>\n",
       "      <th>profit</th>\n",
       "    </tr>\n",
       "  </thead>\n",
       "  <tbody>\n",
       "    <tr>\n",
       "      <th>0</th>\n",
       "      <td>1955</td>\n",
       "      <td>1</td>\n",
       "      <td>General Motors</td>\n",
       "      <td>9823.5</td>\n",
       "      <td>806</td>\n",
       "    </tr>\n",
       "    <tr>\n",
       "      <th>1</th>\n",
       "      <td>1955</td>\n",
       "      <td>2</td>\n",
       "      <td>Exxon Mobil</td>\n",
       "      <td>5661.4</td>\n",
       "      <td>584.8</td>\n",
       "    </tr>\n",
       "    <tr>\n",
       "      <th>2</th>\n",
       "      <td>1955</td>\n",
       "      <td>3</td>\n",
       "      <td>U.S. Steel</td>\n",
       "      <td>3250.4</td>\n",
       "      <td>195.4</td>\n",
       "    </tr>\n",
       "    <tr>\n",
       "      <th>3</th>\n",
       "      <td>1955</td>\n",
       "      <td>4</td>\n",
       "      <td>General Electric</td>\n",
       "      <td>2959.1</td>\n",
       "      <td>212.6</td>\n",
       "    </tr>\n",
       "    <tr>\n",
       "      <th>4</th>\n",
       "      <td>1955</td>\n",
       "      <td>5</td>\n",
       "      <td>Esmark</td>\n",
       "      <td>2510.8</td>\n",
       "      <td>19.1</td>\n",
       "    </tr>\n",
       "  </tbody>\n",
       "</table>\n",
       "</div>"
      ],
      "text/plain": [
       "   year  rank           company  revenue profit\n",
       "0  1955     1    General Motors   9823.5    806\n",
       "1  1955     2       Exxon Mobil   5661.4  584.8\n",
       "2  1955     3        U.S. Steel   3250.4  195.4\n",
       "3  1955     4  General Electric   2959.1  212.6\n",
       "4  1955     5            Esmark   2510.8   19.1"
      ]
     },
     "execution_count": 4,
     "metadata": {},
     "output_type": "execute_result"
    }
   ],
   "source": [
    "df.head()"
   ]
  },
  {
   "cell_type": "code",
   "execution_count": 5,
   "metadata": {},
   "outputs": [
    {
     "data": {
      "text/html": [
       "<div>\n",
       "<style scoped>\n",
       "    .dataframe tbody tr th:only-of-type {\n",
       "        vertical-align: middle;\n",
       "    }\n",
       "\n",
       "    .dataframe tbody tr th {\n",
       "        vertical-align: top;\n",
       "    }\n",
       "\n",
       "    .dataframe thead th {\n",
       "        text-align: right;\n",
       "    }\n",
       "</style>\n",
       "<table border=\"1\" class=\"dataframe\">\n",
       "  <thead>\n",
       "    <tr style=\"text-align: right;\">\n",
       "      <th></th>\n",
       "      <th>year</th>\n",
       "      <th>rank</th>\n",
       "      <th>company</th>\n",
       "      <th>revenue</th>\n",
       "      <th>profit</th>\n",
       "    </tr>\n",
       "  </thead>\n",
       "  <tbody>\n",
       "    <tr>\n",
       "      <th>25495</th>\n",
       "      <td>2005</td>\n",
       "      <td>496</td>\n",
       "      <td>Wm. Wrigley Jr.</td>\n",
       "      <td>3648.6</td>\n",
       "      <td>493</td>\n",
       "    </tr>\n",
       "    <tr>\n",
       "      <th>25496</th>\n",
       "      <td>2005</td>\n",
       "      <td>497</td>\n",
       "      <td>Peabody Energy</td>\n",
       "      <td>3631.6</td>\n",
       "      <td>175.4</td>\n",
       "    </tr>\n",
       "    <tr>\n",
       "      <th>25497</th>\n",
       "      <td>2005</td>\n",
       "      <td>498</td>\n",
       "      <td>Wendy's International</td>\n",
       "      <td>3630.4</td>\n",
       "      <td>57.8</td>\n",
       "    </tr>\n",
       "    <tr>\n",
       "      <th>25498</th>\n",
       "      <td>2005</td>\n",
       "      <td>499</td>\n",
       "      <td>Kindred Healthcare</td>\n",
       "      <td>3616.6</td>\n",
       "      <td>70.6</td>\n",
       "    </tr>\n",
       "    <tr>\n",
       "      <th>25499</th>\n",
       "      <td>2005</td>\n",
       "      <td>500</td>\n",
       "      <td>Cincinnati Financial</td>\n",
       "      <td>3614.0</td>\n",
       "      <td>584</td>\n",
       "    </tr>\n",
       "  </tbody>\n",
       "</table>\n",
       "</div>"
      ],
      "text/plain": [
       "       year  rank                company  revenue profit\n",
       "25495  2005   496        Wm. Wrigley Jr.   3648.6    493\n",
       "25496  2005   497         Peabody Energy   3631.6  175.4\n",
       "25497  2005   498  Wendy's International   3630.4   57.8\n",
       "25498  2005   499     Kindred Healthcare   3616.6   70.6\n",
       "25499  2005   500   Cincinnati Financial   3614.0    584"
      ]
     },
     "execution_count": 5,
     "metadata": {},
     "output_type": "execute_result"
    }
   ],
   "source": [
    "df.tail()"
   ]
  },
  {
   "cell_type": "code",
   "execution_count": 6,
   "metadata": {},
   "outputs": [
    {
     "data": {
      "text/plain": [
       "year         int64\n",
       "rank         int64\n",
       "company     object\n",
       "revenue    float64\n",
       "profit      object\n",
       "dtype: object"
      ]
     },
     "execution_count": 6,
     "metadata": {},
     "output_type": "execute_result"
    }
   ],
   "source": [
    "df.dtypes"
   ]
  },
  {
   "cell_type": "code",
   "execution_count": 7,
   "metadata": {},
   "outputs": [
    {
     "data": {
      "text/plain": [
       "year         int64\n",
       "rank         int64\n",
       "company     object\n",
       "revenue    float64\n",
       "profit      object\n",
       "dtype: object"
      ]
     },
     "execution_count": 7,
     "metadata": {},
     "output_type": "execute_result"
    }
   ],
   "source": [
    "df.dtypes"
   ]
  },
  {
   "cell_type": "code",
   "execution_count": 8,
   "metadata": {},
   "outputs": [
    {
     "data": {
      "text/html": [
       "<div>\n",
       "<style scoped>\n",
       "    .dataframe tbody tr th:only-of-type {\n",
       "        vertical-align: middle;\n",
       "    }\n",
       "\n",
       "    .dataframe tbody tr th {\n",
       "        vertical-align: top;\n",
       "    }\n",
       "\n",
       "    .dataframe thead th {\n",
       "        text-align: right;\n",
       "    }\n",
       "</style>\n",
       "<table border=\"1\" class=\"dataframe\">\n",
       "  <thead>\n",
       "    <tr style=\"text-align: right;\">\n",
       "      <th></th>\n",
       "      <th>year</th>\n",
       "      <th>rank</th>\n",
       "      <th>company</th>\n",
       "      <th>revenue</th>\n",
       "      <th>profit</th>\n",
       "    </tr>\n",
       "  </thead>\n",
       "  <tbody>\n",
       "    <tr>\n",
       "      <th>228</th>\n",
       "      <td>1955</td>\n",
       "      <td>229</td>\n",
       "      <td>Norton</td>\n",
       "      <td>135.0</td>\n",
       "      <td>N.A.</td>\n",
       "    </tr>\n",
       "    <tr>\n",
       "      <th>290</th>\n",
       "      <td>1955</td>\n",
       "      <td>291</td>\n",
       "      <td>Schlitz Brewing</td>\n",
       "      <td>100.0</td>\n",
       "      <td>N.A.</td>\n",
       "    </tr>\n",
       "    <tr>\n",
       "      <th>294</th>\n",
       "      <td>1955</td>\n",
       "      <td>295</td>\n",
       "      <td>Pacific Vegetable Oil</td>\n",
       "      <td>97.9</td>\n",
       "      <td>N.A.</td>\n",
       "    </tr>\n",
       "    <tr>\n",
       "      <th>296</th>\n",
       "      <td>1955</td>\n",
       "      <td>297</td>\n",
       "      <td>Liebmann Breweries</td>\n",
       "      <td>96.0</td>\n",
       "      <td>N.A.</td>\n",
       "    </tr>\n",
       "    <tr>\n",
       "      <th>352</th>\n",
       "      <td>1955</td>\n",
       "      <td>353</td>\n",
       "      <td>Minneapolis-Moline</td>\n",
       "      <td>77.4</td>\n",
       "      <td>N.A.</td>\n",
       "    </tr>\n",
       "  </tbody>\n",
       "</table>\n",
       "</div>"
      ],
      "text/plain": [
       "     year  rank                company  revenue profit\n",
       "228  1955   229                 Norton    135.0   N.A.\n",
       "290  1955   291        Schlitz Brewing    100.0   N.A.\n",
       "294  1955   295  Pacific Vegetable Oil     97.9   N.A.\n",
       "296  1955   297     Liebmann Breweries     96.0   N.A.\n",
       "352  1955   353     Minneapolis-Moline     77.4   N.A."
      ]
     },
     "execution_count": 8,
     "metadata": {},
     "output_type": "execute_result"
    }
   ],
   "source": [
    "non_numberic_profits = df.profit.str.contains('[^0-9.-]')\n",
    "df.loc[non_numberic_profits].head()\n",
    "\n",
    "non_numberic_profits = df.profit.str.contains('[^0-9.-]')\n",
    "df.loc[non_numberic_profits].head()"
   ]
  },
  {
   "cell_type": "code",
   "execution_count": 9,
   "metadata": {},
   "outputs": [],
   "source": [
    "df.columns = ['year', 'rank', 'company', 'revenue', 'profit']"
   ]
  },
  {
   "cell_type": "code",
   "execution_count": 10,
   "metadata": {},
   "outputs": [
    {
     "data": {
      "text/html": [
       "<div>\n",
       "<style scoped>\n",
       "    .dataframe tbody tr th:only-of-type {\n",
       "        vertical-align: middle;\n",
       "    }\n",
       "\n",
       "    .dataframe tbody tr th {\n",
       "        vertical-align: top;\n",
       "    }\n",
       "\n",
       "    .dataframe thead th {\n",
       "        text-align: right;\n",
       "    }\n",
       "</style>\n",
       "<table border=\"1\" class=\"dataframe\">\n",
       "  <thead>\n",
       "    <tr style=\"text-align: right;\">\n",
       "      <th></th>\n",
       "      <th>year</th>\n",
       "      <th>rank</th>\n",
       "      <th>company</th>\n",
       "      <th>revenue</th>\n",
       "      <th>profit</th>\n",
       "    </tr>\n",
       "  </thead>\n",
       "  <tbody>\n",
       "    <tr>\n",
       "      <th>228</th>\n",
       "      <td>1955</td>\n",
       "      <td>229</td>\n",
       "      <td>Norton</td>\n",
       "      <td>135.0</td>\n",
       "      <td>N.A.</td>\n",
       "    </tr>\n",
       "    <tr>\n",
       "      <th>290</th>\n",
       "      <td>1955</td>\n",
       "      <td>291</td>\n",
       "      <td>Schlitz Brewing</td>\n",
       "      <td>100.0</td>\n",
       "      <td>N.A.</td>\n",
       "    </tr>\n",
       "    <tr>\n",
       "      <th>294</th>\n",
       "      <td>1955</td>\n",
       "      <td>295</td>\n",
       "      <td>Pacific Vegetable Oil</td>\n",
       "      <td>97.9</td>\n",
       "      <td>N.A.</td>\n",
       "    </tr>\n",
       "    <tr>\n",
       "      <th>296</th>\n",
       "      <td>1955</td>\n",
       "      <td>297</td>\n",
       "      <td>Liebmann Breweries</td>\n",
       "      <td>96.0</td>\n",
       "      <td>N.A.</td>\n",
       "    </tr>\n",
       "    <tr>\n",
       "      <th>352</th>\n",
       "      <td>1955</td>\n",
       "      <td>353</td>\n",
       "      <td>Minneapolis-Moline</td>\n",
       "      <td>77.4</td>\n",
       "      <td>N.A.</td>\n",
       "    </tr>\n",
       "  </tbody>\n",
       "</table>\n",
       "</div>"
      ],
      "text/plain": [
       "     year  rank                company  revenue profit\n",
       "228  1955   229                 Norton    135.0   N.A.\n",
       "290  1955   291        Schlitz Brewing    100.0   N.A.\n",
       "294  1955   295  Pacific Vegetable Oil     97.9   N.A.\n",
       "296  1955   297     Liebmann Breweries     96.0   N.A.\n",
       "352  1955   353     Minneapolis-Moline     77.4   N.A."
      ]
     },
     "execution_count": 10,
     "metadata": {},
     "output_type": "execute_result"
    }
   ],
   "source": [
    "non_numberic_profits = df.profit.str.contains('[^0-9.-]')\n",
    "df.loc[non_numberic_profits].head()"
   ]
  },
  {
   "cell_type": "code",
   "execution_count": 11,
   "metadata": {},
   "outputs": [
    {
     "data": {
      "image/png": "[encoded data removed]",
      "text/plain": [
       "<Figure size 432x288 with 1 Axes>"
      ]
     },
     "metadata": {},
     "output_type": "display_data"
    }
   ],
   "source": [
    "bin_sizes, _, _ = plt.hist(df.year[non_numberic_profits], bins=range(1955, 2006))"
   ]
  },
  {
   "cell_type": "code",
   "execution_count": 8,
   "metadata": {},
   "outputs": [
    {
     "name": "stdout",
     "output_type": "stream",
     "text": [
      "Akash has from vikasa scored 9.206 marks\n"
     ]
    }
   ],
   "source": [
    "hash = {'Name': 'Akash', 'school': 'vikasa', 'grade': 9.206}\n",
    "str = '{} has from {} scored {} marks'\n",
    "print(str.format(hash['Name'],hash['school'],hash['grade']))"
   ]
  },
  {
   "cell_type": "code",
   "execution_count": 10,
   "metadata": {},
   "outputs": [],
   "source": [
    "import csv\n",
    "with open ('data_science/mpg.csv') as csvfile:\n",
    "    mpg =list(csv.DictReader(csvfile))"
   ]
  },
  {
   "cell_type": "code",
   "execution_count": 11,
   "metadata": {},
   "outputs": [
    {
     "name": "stdout",
     "output_type": "stream",
     "text": [
      "[OrderedDict([('', '1'), ('manufacturer', 'audi'), ('model', 'a4'), ('displ', '1.8'), ('year', '1999'), ('cyl', '4'), ('trans', 'auto(l5)'), ('drv', 'f'), ('cty', '18'), ('hwy', '29'), ('fl', 'p'), ('class', 'compact')]), OrderedDict([('', '2'), ('manufacturer', 'audi'), ('model', 'a4'), ('displ', '1.8'), ('year', '1999'), ('cyl', '4'), ('trans', 'manual(m5)'), ('drv', 'f'), ('cty', '21'), ('hwy', '29'), ('fl', 'p'), ('class', 'compact')]), OrderedDict([('', '3'), ('manufacturer', 'audi'), ('model', 'a4'), ('displ', '2'), ('year', '2008'), ('cyl', '4'), ('trans', 'manual(m6)'), ('drv', 'f'), ('cty', '20'), ('hwy', '31'), ('fl', 'p'), ('class', 'compact')]), OrderedDict([('', '4'), ('manufacturer', 'audi'), ('model', 'a4'), ('displ', '2'), ('year', '2008'), ('cyl', '4'), ('trans', 'auto(av)'), ('drv', 'f'), ('cty', '21'), ('hwy', '30'), ('fl', 'p'), ('class', 'compact')]), OrderedDict([('', '5'), ('manufacturer', 'audi'), ('model', 'a4'), ('displ', '2.8'), ('year', '1999'), ('cyl', '6'), ('trans', 'auto(l5)'), ('drv', 'f'), ('cty', '16'), ('hwy', '26'), ('fl', 'p'), ('class', 'compact')]), OrderedDict([('', '6'), ('manufacturer', 'audi'), ('model', 'a4'), ('displ', '2.8'), ('year', '1999'), ('cyl', '6'), ('trans', 'manual(m5)'), ('drv', 'f'), ('cty', '18'), ('hwy', '26'), ('fl', 'p'), ('class', 'compact')]), OrderedDict([('', '7'), ('manufacturer', 'audi'), ('model', 'a4'), ('displ', '3.1'), ('year', '2008'), ('cyl', '6'), ('trans', 'auto(av)'), ('drv', 'f'), ('cty', '18'), ('hwy', '27'), ('fl', 'p'), ('class', 'compact')]), OrderedDict([('', '8'), ('manufacturer', 'audi'), ('model', 'a4 quattro'), ('displ', '1.8'), ('year', '1999'), ('cyl', '4'), ('trans', 'manual(m5)'), ('drv', '4'), ('cty', '18'), ('hwy', '26'), ('fl', 'p'), ('class', 'compact')]), OrderedDict([('', '9'), ('manufacturer', 'audi'), ('model', 'a4 quattro'), ('displ', '1.8'), ('year', '1999'), ('cyl', '4'), ('trans', 'auto(l5)'), ('drv', '4'), ('cty', '16'), ('hwy', '25'), ('fl', 'p'), ('class', 'compact')]), OrderedDict([('', '10'), ('manufacturer', 'audi'), ('model', 'a4 quattro'), ('displ', '2'), ('year', '2008'), ('cyl', '4'), ('trans', 'manual(m6)'), ('drv', '4'), ('cty', '20'), ('hwy', '28'), ('fl', 'p'), ('class', 'compact')]), OrderedDict([('', '11'), ('manufacturer', 'audi'), ('model', 'a4 quattro'), ('displ', '2'), ('year', '2008'), ('cyl', '4'), ('trans', 'auto(s6)'), ('drv', '4'), ('cty', '19'), ('hwy', '27'), ('fl', 'p'), ('class', 'compact')]), OrderedDict([('', '12'), ('manufacturer', 'audi'), ('model', 'a4 quattro'), ('displ', '2.8'), ('year', '1999'), ('cyl', '6'), ('trans', 'auto(l5)'), ('drv', '4'), ('cty', '15'), ('hwy', '25'), ('fl', 'p'), ('class', 'compact')]), OrderedDict([('', '13'), ('manufacturer', 'audi'), ('model', 'a4 quattro'), ('displ', '2.8'), ('year', '1999'), ('cyl', '6'), ('trans', 'manual(m5)'), ('drv', '4'), ('cty', '17'), ('hwy', '25'), ('fl', 'p'), ('class', 'compact')]), OrderedDict([('', '14'), ('manufacturer', 'audi'), ('model', 'a4 quattro'), ('displ', '3.1'), ('year', '2008'), ('cyl', '6'), ('trans', 'auto(s6)'), ('drv', '4'), ('cty', '17'), ('hwy', '25'), ('fl', 'p'), ('class', 'compact')]), OrderedDict([('', '15'), ('manufacturer', 'audi'), ('model', 'a4 quattro'), ('displ', '3.1'), ('year', '2008'), ('cyl', '6'), ('trans', 'manual(m6)'), ('drv', '4'), ('cty', '15'), ('hwy', '25'), ('fl', 'p'), ('class', 'compact')]), OrderedDict([('', '16'), ('manufacturer', 'audi'), ('model', 'a6 quattro'), ('displ', '2.8'), ('year', '1999'), ('cyl', '6'), ('trans', 'auto(l5)'), ('drv', '4'), ('cty', '15'), ('hwy', '24'), ('fl', 'p'), ('class', 'midsize')]), OrderedDict([('', '17'), ('manufacturer', 'audi'), ('model', 'a6 quattro'), ('displ', '3.1'), ('year', '2008'), ('cyl', '6'), ('trans', 'auto(s6)'), ('drv', '4'), ('cty', '17'), ('hwy', '25'), ('fl', 'p'), ('class', 'midsize')]), OrderedDict([('', '18'), ('manufacturer', 'audi'), ('model', 'a6 quattro'), ('displ', '4.2'), ('year', '2008'), ('cyl', '8'), ('trans', 'auto(s6)'), ('drv', '4'), ('cty', '16'), ('hwy', '23'), ('fl', 'p'), ('class', 'midsize')]), OrderedDict([('', '19'), ('manufacturer', 'chevrolet'), ('model', 'c1500 suburban 2wd'), ('displ', '5.3'), ('year', '2008'), ('cyl', '8'), ('trans', 'auto(l4)'), ('drv', 'r'), ('cty', '14'), ('hwy', '20'), ('fl', 'r'), ('class', 'suv')]), OrderedDict([('', '20'), ('manufacturer', 'chevrolet'), ('model', 'c1500 suburban 2wd'), ('displ', '5.3'), ('year', '2008'), ('cyl', '8'), ('trans', 'auto(l4)'), ('drv', 'r'), ('cty', '11'), ('hwy', '15'), ('fl', 'e'), ('class', 'suv')]), OrderedDict([('', '21'), ('manufacturer', 'chevrolet'), ('model', 'c1500 suburban 2wd'), ('displ', '5.3'), ('year', '2008'), ('cyl', '8'), ('trans', 'auto(l4)'), ('drv', 'r'), ('cty', '14'), ('hwy', '20'), ('fl', 'r'), ('class', 'suv')]), OrderedDict([('', '22'), ('manufacturer', 'chevrolet'), ('model', 'c1500 suburban 2wd'), ('displ', '5.7'), ('year', '1999'), ('cyl', '8'), ('trans', 'auto(l4)'), ('drv', 'r'), ('cty', '13'), ('hwy', '17'), ('fl', 'r'), ('class', 'suv')]), OrderedDict([('', '23'), ('manufacturer', 'chevrolet'), ('model', 'c1500 suburban 2wd'), ('displ', '6'), ('year', '2008'), ('cyl', '8'), ('trans', 'auto(l4)'), ('drv', 'r'), ('cty', '12'), ('hwy', '17'), ('fl', 'r'), ('class', 'suv')]), OrderedDict([('', '24'), ('manufacturer', 'chevrolet'), ('model', 'corvette'), ('displ', '5.7'), ('year', '1999'), ('cyl', '8'), ('trans', 'manual(m6)'), ('drv', 'r'), ('cty', '16'), ('hwy', '26'), ('fl', 'p'), ('class', '2seater')]), OrderedDict([('', '25'), ('manufacturer', 'chevrolet'), ('model', 'corvette'), ('displ', '5.7'), ('year', '1999'), ('cyl', '8'), ('trans', 'auto(l4)'), ('drv', 'r'), ('cty', '15'), ('hwy', '23'), ('fl', 'p'), ('class', '2seater')]), OrderedDict([('', '26'), ('manufacturer', 'chevrolet'), ('model', 'corvette'), ('displ', '6.2'), ('year', '2008'), ('cyl', '8'), ('trans', 'manual(m6)'), ('drv', 'r'), ('cty', '16'), ('hwy', '26'), ('fl', 'p'), ('class', '2seater')]), OrderedDict([('', '27'), ('manufacturer', 'chevrolet'), ('model', 'corvette'), ('displ', '6.2'), ('year', '2008'), ('cyl', '8'), ('trans', 'auto(s6)'), ('drv', 'r'), ('cty', '15'), ('hwy', '25'), ('fl', 'p'), ('class', '2seater')]), OrderedDict([('', '28'), ('manufacturer', 'chevrolet'), ('model', 'corvette'), ('displ', '7'), ('year', '2008'), ('cyl', '8'), ('trans', 'manual(m6)'), ('drv', 'r'), ('cty', '15'), ('hwy', '24'), ('fl', 'p'), ('class', '2seater')]), OrderedDict([('', '29'), ('manufacturer', 'chevrolet'), ('model', 'k1500 tahoe 4wd'), ('displ', '5.3'), ('year', '2008'), ('cyl', '8'), ('trans', 'auto(l4)'), ('drv', '4'), ('cty', '14'), ('hwy', '19'), ('fl', 'r'), ('class', 'suv')]), OrderedDict([('', '30'), ('manufacturer', 'chevrolet'), ('model', 'k1500 tahoe 4wd'), ('displ', '5.3'), ('year', '2008'), ('cyl', '8'), ('trans', 'auto(l4)'), ('drv', '4'), ('cty', '11'), ('hwy', '14'), ('fl', 'e'), ('class', 'suv')]), OrderedDict([('', '31'), ('manufacturer', 'chevrolet'), ('model', 'k1500 tahoe 4wd'), ('displ', '5.7'), ('year', '1999'), ('cyl', '8'), ('trans', 'auto(l4)'), ('drv', '4'), ('cty', '11'), ('hwy', '15'), ('fl', 'r'), ('class', 'suv')]), OrderedDict([('', '32'), ('manufacturer', 'chevrolet'), ('model', 'k1500 tahoe 4wd'), ('displ', '6.5'), ('year', '1999'), ('cyl', '8'), ('trans', 'auto(l4)'), ('drv', '4'), ('cty', '14'), ('hwy', '17'), ('fl', 'd'), ('class', 'suv')]), OrderedDict([('', '33'), ('manufacturer', 'chevrolet'), ('model', 'malibu'), ('displ', '2.4'), ('year', '1999'), ('cyl', '4'), ('trans', 'auto(l4)'), ('drv', 'f'), ('cty', '19'), ('hwy', '27'), ('fl', 'r'), ('class', 'midsize')]), OrderedDict([('', '34'), ('manufacturer', 'chevrolet'), ('model', 'malibu'), ('displ', '2.4'), ('year', '2008'), ('cyl', '4'), ('trans', 'auto(l4)'), ('drv', 'f'), ('cty', '22'), ('hwy', '30'), ('fl', 'r'), ('class', 'midsize')]), OrderedDict([('', '35'), ('manufacturer', 'chevrolet'), ('model', 'malibu'), ('displ', '3.1'), ('year', '1999'), ('cyl', '6'), ('trans', 'auto(l4)'), ('drv', 'f'), ('cty', '18'), ('hwy', '26'), ('fl', 'r'), ('class', 'midsize')]), OrderedDict([('', '36'), ('manufacturer', 'chevrolet'), ('model', 'malibu'), ('displ', '3.5'), ('year', '2008'), ('cyl', '6'), ('trans', 'auto(l4)'), ('drv', 'f'), ('cty', '18'), ('hwy', '29'), ('fl', 'r'), ('class', 'midsize')]), OrderedDict([('', '37'), ('manufacturer', 'chevrolet'), ('model', 'malibu'), ('displ', '3.6'), ('year', '2008'), ('cyl', '6'), ('trans', 'auto(s6)'), ('drv', 'f'), ('cty', '17'), ('hwy', '26'), ('fl', 'r'), ('class', 'midsize')]), OrderedDict([('', '38'), ('manufacturer', 'dodge'), ('model', 'caravan 2wd'), ('displ', '2.4'), ('year', '1999'), ('cyl', '4'), ('trans', 'auto(l3)'), ('drv', 'f'), ('cty', '18'), ('hwy', '24'), ('fl', 'r'), ('class', 'minivan')]), OrderedDict([('', '39'), ('manufacturer', 'dodge'), ('model', 'caravan 2wd'), ('displ', '3'), ('year', '1999'), ('cyl', '6'), ('trans', 'auto(l4)'), ('drv', 'f'), ('cty', '17'), ('hwy', '24'), ('fl', 'r'), ('class', 'minivan')]), OrderedDict([('', '40'), ('manufacturer', 'dodge'), ('model', 'caravan 2wd'), ('displ', '3.3'), ('year', '1999'), ('cyl', '6'), ('trans', 'auto(l4)'), ('drv', 'f'), ('cty', '16'), ('hwy', '22'), ('fl', 'r'), ('class', 'minivan')]), OrderedDict([('', '41'), ('manufacturer', 'dodge'), ('model', 'caravan 2wd'), ('displ', '3.3'), ('year', '1999'), ('cyl', '6'), ('trans', 'auto(l4)'), ('drv', 'f'), ('cty', '16'), ('hwy', '22'), ('fl', 'r'), ('class', 'minivan')]), OrderedDict([('', '42'), ('manufacturer', 'dodge'), ('model', 'caravan 2wd'), ('displ', '3.3'), ('year', '2008'), ('cyl', '6'), ('trans', 'auto(l4)'), ('drv', 'f'), ('cty', '17'), ('hwy', '24'), ('fl', 'r'), ('class', 'minivan')]), OrderedDict([('', '43'), ('manufacturer', 'dodge'), ('model', 'caravan 2wd'), ('displ', '3.3'), ('year', '2008'), ('cyl', '6'), ('trans', 'auto(l4)'), ('drv', 'f'), ('cty', '17'), ('hwy', '24'), ('fl', 'r'), ('class', 'minivan')]), OrderedDict([('', '44'), ('manufacturer', 'dodge'), ('model', 'caravan 2wd'), ('displ', '3.3'), ('year', '2008'), ('cyl', '6'), ('trans', 'auto(l4)'), ('drv', 'f'), ('cty', '11'), ('hwy', '17'), ('fl', 'e'), ('class', 'minivan')]), OrderedDict([('', '45'), ('manufacturer', 'dodge'), ('model', 'caravan 2wd'), ('displ', '3.8'), ('year', '1999'), ('cyl', '6'), ('trans', 'auto(l4)'), ('drv', 'f'), ('cty', '15'), ('hwy', '22'), ('fl', 'r'), ('class', 'minivan')]), OrderedDict([('', '46'), ('manufacturer', 'dodge'), ('model', 'caravan 2wd'), ('displ', '3.8'), ('year', '1999'), ('cyl', '6'), ('trans', 'auto(l4)'), ('drv', 'f'), ('cty', '15'), ('hwy', '21'), ('fl', 'r'), ('class', 'minivan')]), OrderedDict([('', '47'), ('manufacturer', 'dodge'), ('model', 'caravan 2wd'), ('displ', '3.8'), ('year', '2008'), ('cyl', '6'), ('trans', 'auto(l6)'), ('drv', 'f'), ('cty', '16'), ('hwy', '23'), ('fl', 'r'), ('class', 'minivan')]), OrderedDict([('', '48'), ('manufacturer', 'dodge'), ('model', 'caravan 2wd'), ('displ', '4'), ('year', '2008'), ('cyl', '6'), ('trans', 'auto(l6)'), ('drv', 'f'), ('cty', '16'), ('hwy', '23'), ('fl', 'r'), ('class', 'minivan')]), OrderedDict([('', '49'), ('manufacturer', 'dodge'), ('model', 'dakota pickup 4wd'), ('displ', '3.7'), ('year', '2008'), ('cyl', '6'), ('trans', 'manual(m6)'), ('drv', '4'), ('cty', '15'), ('hwy', '19'), ('fl', 'r'), ('class', 'pickup')]), OrderedDict([('', '50'), ('manufacturer', 'dodge'), ('model', 'dakota pickup 4wd'), ('displ', '3.7'), ('year', '2008'), ('cyl', '6'), ('trans', 'auto(l4)'), ('drv', '4'), ('cty', '14'), ('hwy', '18'), ('fl', 'r'), ('class', 'pickup')]), OrderedDict([('', '51'), ('manufacturer', 'dodge'), ('model', 'dakota pickup 4wd'), ('displ', '3.9'), ('year', '1999'), ('cyl', '6'), ('trans', 'auto(l4)'), ('drv', '4'), ('cty', '13'), ('hwy', '17'), ('fl', 'r'), ('class', 'pickup')]), OrderedDict([('', '52'), ('manufacturer', 'dodge'), ('model', 'dakota pickup 4wd'), ('displ', '3.9'), ('year', '1999'), ('cyl', '6'), ('trans', 'manual(m5)'), ('drv', '4'), ('cty', '14'), ('hwy', '17'), ('fl', 'r'), ('class', 'pickup')]), OrderedDict([('', '53'), ('manufacturer', 'dodge'), ('model', 'dakota pickup 4wd'), ('displ', '4.7'), ('year', '2008'), ('cyl', '8'), ('trans', 'auto(l5)'), ('drv', '4'), ('cty', '14'), ('hwy', '19'), ('fl', 'r'), ('class', 'pickup')]), OrderedDict([('', '54'), ('manufacturer', 'dodge'), ('model', 'dakota pickup 4wd'), ('displ', '4.7'), ('year', '2008'), ('cyl', '8'), ('trans', 'auto(l5)'), ('drv', '4'), ('cty', '14'), ('hwy', '19'), ('fl', 'r'), ('class', 'pickup')]), OrderedDict([('', '55'), ('manufacturer', 'dodge'), ('model', 'dakota pickup 4wd'), ('displ', '4.7'), ('year', '2008'), ('cyl', '8'), ('trans', 'auto(l5)'), ('drv', '4'), ('cty', '9'), ('hwy', '12'), ('fl', 'e'), ('class', 'pickup')]), OrderedDict([('', '56'), ('manufacturer', 'dodge'), ('model', 'dakota pickup 4wd'), ('displ', '5.2'), ('year', '1999'), ('cyl', '8'), ('trans', 'manual(m5)'), ('drv', '4'), ('cty', '11'), ('hwy', '17'), ('fl', 'r'), ('class', 'pickup')]), OrderedDict([('', '57'), ('manufacturer', 'dodge'), ('model', 'dakota pickup 4wd'), ('displ', '5.2'), ('year', '1999'), ('cyl', '8'), ('trans', 'auto(l4)'), ('drv', '4'), ('cty', '11'), ('hwy', '15'), ('fl', 'r'), ('class', 'pickup')]), OrderedDict([('', '58'), ('manufacturer', 'dodge'), ('model', 'durango 4wd'), ('displ', '3.9'), ('year', '1999'), ('cyl', '6'), ('trans', 'auto(l4)'), ('drv', '4'), ('cty', '13'), ('hwy', '17'), ('fl', 'r'), ('class', 'suv')]), OrderedDict([('', '59'), ('manufacturer', 'dodge'), ('model', 'durango 4wd'), ('displ', '4.7'), ('year', '2008'), ('cyl', '8'), ('trans', 'auto(l5)'), ('drv', '4'), ('cty', '13'), ('hwy', '17'), ('fl', 'r'), ('class', 'suv')]), OrderedDict([('', '60'), ('manufacturer', 'dodge'), ('model', 'durango 4wd'), ('displ', '4.7'), ('year', '2008'), ('cyl', '8'), ('trans', 'auto(l5)'), ('drv', '4'), ('cty', '9'), ('hwy', '12'), ('fl', 'e'), ('class', 'suv')]), OrderedDict([('', '61'), ('manufacturer', 'dodge'), ('model', 'durango 4wd'), ('displ', '4.7'), ('year', '2008'), ('cyl', '8'), ('trans', 'auto(l5)'), ('drv', '4'), ('cty', '13'), ('hwy', '17'), ('fl', 'r'), ('class', 'suv')]), OrderedDict([('', '62'), ('manufacturer', 'dodge'), ('model', 'durango 4wd'), ('displ', '5.2'), ('year', '1999'), ('cyl', '8'), ('trans', 'auto(l4)'), ('drv', '4'), ('cty', '11'), ('hwy', '16'), ('fl', 'r'), ('class', 'suv')]), OrderedDict([('', '63'), ('manufacturer', 'dodge'), ('model', 'durango 4wd'), ('displ', '5.7'), ('year', '2008'), ('cyl', '8'), ('trans', 'auto(l5)'), ('drv', '4'), ('cty', '13'), ('hwy', '18'), ('fl', 'r'), ('class', 'suv')]), OrderedDict([('', '64'), ('manufacturer', 'dodge'), ('model', 'durango 4wd'), ('displ', '5.9'), ('year', '1999'), ('cyl', '8'), ('trans', 'auto(l4)'), ('drv', '4'), ('cty', '11'), ('hwy', '15'), ('fl', 'r'), ('class', 'suv')]), OrderedDict([('', '65'), ('manufacturer', 'dodge'), ('model', 'ram 1500 pickup 4wd'), ('displ', '4.7'), ('year', '2008'), ('cyl', '8'), ('trans', 'manual(m6)'), ('drv', '4'), ('cty', '12'), ('hwy', '16'), ('fl', 'r'), ('class', 'pickup')]), OrderedDict([('', '66'), ('manufacturer', 'dodge'), ('model', 'ram 1500 pickup 4wd'), ('displ', '4.7'), ('year', '2008'), ('cyl', '8'), ('trans', 'auto(l5)'), ('drv', '4'), ('cty', '9'), ('hwy', '12'), ('fl', 'e'), ('class', 'pickup')]), OrderedDict([('', '67'), ('manufacturer', 'dodge'), ('model', 'ram 1500 pickup 4wd'), ('displ', '4.7'), ('year', '2008'), ('cyl', '8'), ('trans', 'auto(l5)'), ('drv', '4'), ('cty', '13'), ('hwy', '17'), ('fl', 'r'), ('class', 'pickup')]), OrderedDict([('', '68'), ('manufacturer', 'dodge'), ('model', 'ram 1500 pickup 4wd'), ('displ', '4.7'), ('year', '2008'), ('cyl', '8'), ('trans', 'auto(l5)'), ('drv', '4'), ('cty', '13'), ('hwy', '17'), ('fl', 'r'), ('class', 'pickup')]), OrderedDict([('', '69'), ('manufacturer', 'dodge'), ('model', 'ram 1500 pickup 4wd'), ('displ', '4.7'), ('year', '2008'), ('cyl', '8'), ('trans', 'manual(m6)'), ('drv', '4'), ('cty', '12'), ('hwy', '16'), ('fl', 'r'), ('class', 'pickup')]), OrderedDict([('', '70'), ('manufacturer', 'dodge'), ('model', 'ram 1500 pickup 4wd'), ('displ', '4.7'), ('year', '2008'), ('cyl', '8'), ('trans', 'manual(m6)'), ('drv', '4'), ('cty', '9'), ('hwy', '12'), ('fl', 'e'), ('class', 'pickup')]), OrderedDict([('', '71'), ('manufacturer', 'dodge'), ('model', 'ram 1500 pickup 4wd'), ('displ', '5.2'), ('year', '1999'), ('cyl', '8'), ('trans', 'auto(l4)'), ('drv', '4'), ('cty', '11'), ('hwy', '15'), ('fl', 'r'), ('class', 'pickup')]), OrderedDict([('', '72'), ('manufacturer', 'dodge'), ('model', 'ram 1500 pickup 4wd'), ('displ', '5.2'), ('year', '1999'), ('cyl', '8'), ('trans', 'manual(m5)'), ('drv', '4'), ('cty', '11'), ('hwy', '16'), ('fl', 'r'), ('class', 'pickup')]), OrderedDict([('', '73'), ('manufacturer', 'dodge'), ('model', 'ram 1500 pickup 4wd'), ('displ', '5.7'), ('year', '2008'), ('cyl', '8'), ('trans', 'auto(l5)'), ('drv', '4'), ('cty', '13'), ('hwy', '17'), ('fl', 'r'), ('class', 'pickup')]), OrderedDict([('', '74'), ('manufacturer', 'dodge'), ('model', 'ram 1500 pickup 4wd'), ('displ', '5.9'), ('year', '1999'), ('cyl', '8'), ('trans', 'auto(l4)'), ('drv', '4'), ('cty', '11'), ('hwy', '15'), ('fl', 'r'), ('class', 'pickup')]), OrderedDict([('', '75'), ('manufacturer', 'ford'), ('model', 'expedition 2wd'), ('displ', '4.6'), ('year', '1999'), ('cyl', '8'), ('trans', 'auto(l4)'), ('drv', 'r'), ('cty', '11'), ('hwy', '17'), ('fl', 'r'), ('class', 'suv')]), OrderedDict([('', '76'), ('manufacturer', 'ford'), ('model', 'expedition 2wd'), ('displ', '5.4'), ('year', '1999'), ('cyl', '8'), ('trans', 'auto(l4)'), ('drv', 'r'), ('cty', '11'), ('hwy', '17'), ('fl', 'r'), ('class', 'suv')]), OrderedDict([('', '77'), ('manufacturer', 'ford'), ('model', 'expedition 2wd'), ('displ', '5.4'), ('year', '2008'), ('cyl', '8'), ('trans', 'auto(l6)'), ('drv', 'r'), ('cty', '12'), ('hwy', '18'), ('fl', 'r'), ('class', 'suv')]), OrderedDict([('', '78'), ('manufacturer', 'ford'), ('model', 'explorer 4wd'), ('displ', '4'), ('year', '1999'), ('cyl', '6'), ('trans', 'auto(l5)'), ('drv', '4'), ('cty', '14'), ('hwy', '17'), ('fl', 'r'), ('class', 'suv')]), OrderedDict([('', '79'), ('manufacturer', 'ford'), ('model', 'explorer 4wd'), ('displ', '4'), ('year', '1999'), ('cyl', '6'), ('trans', 'manual(m5)'), ('drv', '4'), ('cty', '15'), ('hwy', '19'), ('fl', 'r'), ('class', 'suv')]), OrderedDict([('', '80'), ('manufacturer', 'ford'), ('model', 'explorer 4wd'), ('displ', '4'), ('year', '1999'), ('cyl', '6'), ('trans', 'auto(l5)'), ('drv', '4'), ('cty', '14'), ('hwy', '17'), ('fl', 'r'), ('class', 'suv')]), OrderedDict([('', '81'), ('manufacturer', 'ford'), ('model', 'explorer 4wd'), ('displ', '4'), ('year', '2008'), ('cyl', '6'), ('trans', 'auto(l5)'), ('drv', '4'), ('cty', '13'), ('hwy', '19'), ('fl', 'r'), ('class', 'suv')]), OrderedDict([('', '82'), ('manufacturer', 'ford'), ('model', 'explorer 4wd'), ('displ', '4.6'), ('year', '2008'), ('cyl', '8'), ('trans', 'auto(l6)'), ('drv', '4'), ('cty', '13'), ('hwy', '19'), ('fl', 'r'), ('class', 'suv')]), OrderedDict([('', '83'), ('manufacturer', 'ford'), ('model', 'explorer 4wd'), ('displ', '5'), ('year', '1999'), ('cyl', '8'), ('trans', 'auto(l4)'), ('drv', '4'), ('cty', '13'), ('hwy', '17'), ('fl', 'r'), ('class', 'suv')]), OrderedDict([('', '84'), ('manufacturer', 'ford'), ('model', 'f150 pickup 4wd'), ('displ', '4.2'), ('year', '1999'), ('cyl', '6'), ('trans', 'auto(l4)'), ('drv', '4'), ('cty', '14'), ('hwy', '17'), ('fl', 'r'), ('class', 'pickup')]), OrderedDict([('', '85'), ('manufacturer', 'ford'), ('model', 'f150 pickup 4wd'), ('displ', '4.2'), ('year', '1999'), ('cyl', '6'), ('trans', 'manual(m5)'), ('drv', '4'), ('cty', '14'), ('hwy', '17'), ('fl', 'r'), ('class', 'pickup')]), OrderedDict([('', '86'), ('manufacturer', 'ford'), ('model', 'f150 pickup 4wd'), ('displ', '4.6'), ('year', '1999'), ('cyl', '8'), ('trans', 'manual(m5)'), ('drv', '4'), ('cty', '13'), ('hwy', '16'), ('fl', 'r'), ('class', 'pickup')]), OrderedDict([('', '87'), ('manufacturer', 'ford'), ('model', 'f150 pickup 4wd'), ('displ', '4.6'), ('year', '1999'), ('cyl', '8'), ('trans', 'auto(l4)'), ('drv', '4'), ('cty', '13'), ('hwy', '16'), ('fl', 'r'), ('class', 'pickup')]), OrderedDict([('', '88'), ('manufacturer', 'ford'), ('model', 'f150 pickup 4wd'), ('displ', '4.6'), ('year', '2008'), ('cyl', '8'), ('trans', 'auto(l4)'), ('drv', '4'), ('cty', '13'), ('hwy', '17'), ('fl', 'r'), ('class', 'pickup')]), OrderedDict([('', '89'), ('manufacturer', 'ford'), ('model', 'f150 pickup 4wd'), ('displ', '5.4'), ('year', '1999'), ('cyl', '8'), ('trans', 'auto(l4)'), ('drv', '4'), ('cty', '11'), ('hwy', '15'), ('fl', 'r'), ('class', 'pickup')]), OrderedDict([('', '90'), ('manufacturer', 'ford'), ('model', 'f150 pickup 4wd'), ('displ', '5.4'), ('year', '2008'), ('cyl', '8'), ('trans', 'auto(l4)'), ('drv', '4'), ('cty', '13'), ('hwy', '17'), ('fl', 'r'), ('class', 'pickup')]), OrderedDict([('', '91'), ('manufacturer', 'ford'), ('model', 'mustang'), ('displ', '3.8'), ('year', '1999'), ('cyl', '6'), ('trans', 'manual(m5)'), ('drv', 'r'), ('cty', '18'), ('hwy', '26'), ('fl', 'r'), ('class', 'subcompact')]), OrderedDict([('', '92'), ('manufacturer', 'ford'), ('model', 'mustang'), ('displ', '3.8'), ('year', '1999'), ('cyl', '6'), ('trans', 'auto(l4)'), ('drv', 'r'), ('cty', '18'), ('hwy', '25'), ('fl', 'r'), ('class', 'subcompact')]), OrderedDict([('', '93'), ('manufacturer', 'ford'), ('model', 'mustang'), ('displ', '4'), ('year', '2008'), ('cyl', '6'), ('trans', 'manual(m5)'), ('drv', 'r'), ('cty', '17'), ('hwy', '26'), ('fl', 'r'), ('class', 'subcompact')]), OrderedDict([('', '94'), ('manufacturer', 'ford'), ('model', 'mustang'), ('displ', '4'), ('year', '2008'), ('cyl', '6'), ('trans', 'auto(l5)'), ('drv', 'r'), ('cty', '16'), ('hwy', '24'), ('fl', 'r'), ('class', 'subcompact')]), OrderedDict([('', '95'), ('manufacturer', 'ford'), ('model', 'mustang'), ('displ', '4.6'), ('year', '1999'), ('cyl', '8'), ('trans', 'auto(l4)'), ('drv', 'r'), ('cty', '15'), ('hwy', '21'), ('fl', 'r'), ('class', 'subcompact')]), OrderedDict([('', '96'), ('manufacturer', 'ford'), ('model', 'mustang'), ('displ', '4.6'), ('year', '1999'), ('cyl', '8'), ('trans', 'manual(m5)'), ('drv', 'r'), ('cty', '15'), ('hwy', '22'), ('fl', 'r'), ('class', 'subcompact')]), OrderedDict([('', '97'), ('manufacturer', 'ford'), ('model', 'mustang'), ('displ', '4.6'), ('year', '2008'), ('cyl', '8'), ('trans', 'manual(m5)'), ('drv', 'r'), ('cty', '15'), ('hwy', '23'), ('fl', 'r'), ('class', 'subcompact')]), OrderedDict([('', '98'), ('manufacturer', 'ford'), ('model', 'mustang'), ('displ', '4.6'), ('year', '2008'), ('cyl', '8'), ('trans', 'auto(l5)'), ('drv', 'r'), ('cty', '15'), ('hwy', '22'), ('fl', 'r'), ('class', 'subcompact')]), OrderedDict([('', '99'), ('manufacturer', 'ford'), ('model', 'mustang'), ('displ', '5.4'), ('year', '2008'), ('cyl', '8'), ('trans', 'manual(m6)'), ('drv', 'r'), ('cty', '14'), ('hwy', '20'), ('fl', 'p'), ('class', 'subcompact')]), OrderedDict([('', '100'), ('manufacturer', 'honda'), ('model', 'civic'), ('displ', '1.6'), ('year', '1999'), ('cyl', '4'), ('trans', 'manual(m5)'), ('drv', 'f'), ('cty', '28'), ('hwy', '33'), ('fl', 'r'), ('class', 'subcompact')]), OrderedDict([('', '101'), ('manufacturer', 'honda'), ('model', 'civic'), ('displ', '1.6'), ('year', '1999'), ('cyl', '4'), ('trans', 'auto(l4)'), ('drv', 'f'), ('cty', '24'), ('hwy', '32'), ('fl', 'r'), ('class', 'subcompact')]), OrderedDict([('', '102'), ('manufacturer', 'honda'), ('model', 'civic'), ('displ', '1.6'), ('year', '1999'), ('cyl', '4'), ('trans', 'manual(m5)'), ('drv', 'f'), ('cty', '25'), ('hwy', '32'), ('fl', 'r'), ('class', 'subcompact')]), OrderedDict([('', '103'), ('manufacturer', 'honda'), ('model', 'civic'), ('displ', '1.6'), ('year', '1999'), ('cyl', '4'), ('trans', 'manual(m5)'), ('drv', 'f'), ('cty', '23'), ('hwy', '29'), ('fl', 'p'), ('class', 'subcompact')]), OrderedDict([('', '104'), ('manufacturer', 'honda'), ('model', 'civic'), ('displ', '1.6'), ('year', '1999'), ('cyl', '4'), ('trans', 'auto(l4)'), ('drv', 'f'), ('cty', '24'), ('hwy', '32'), ('fl', 'r'), ('class', 'subcompact')]), OrderedDict([('', '105'), ('manufacturer', 'honda'), ('model', 'civic'), ('displ', '1.8'), ('year', '2008'), ('cyl', '4'), ('trans', 'manual(m5)'), ('drv', 'f'), ('cty', '26'), ('hwy', '34'), ('fl', 'r'), ('class', 'subcompact')]), OrderedDict([('', '106'), ('manufacturer', 'honda'), ('model', 'civic'), ('displ', '1.8'), ('year', '2008'), ('cyl', '4'), ('trans', 'auto(l5)'), ('drv', 'f'), ('cty', '25'), ('hwy', '36'), ('fl', 'r'), ('class', 'subcompact')]), OrderedDict([('', '107'), ('manufacturer', 'honda'), ('model', 'civic'), ('displ', '1.8'), ('year', '2008'), ('cyl', '4'), ('trans', 'auto(l5)'), ('drv', 'f'), ('cty', '24'), ('hwy', '36'), ('fl', 'c'), ('class', 'subcompact')]), OrderedDict([('', '108'), ('manufacturer', 'honda'), ('model', 'civic'), ('displ', '2'), ('year', '2008'), ('cyl', '4'), ('trans', 'manual(m6)'), ('drv', 'f'), ('cty', '21'), ('hwy', '29'), ('fl', 'p'), ('class', 'subcompact')]), OrderedDict([('', '109'), ('manufacturer', 'hyundai'), ('model', 'sonata'), ('displ', '2.4'), ('year', '1999'), ('cyl', '4'), ('trans', 'auto(l4)'), ('drv', 'f'), ('cty', '18'), ('hwy', '26'), ('fl', 'r'), ('class', 'midsize')]), OrderedDict([('', '110'), ('manufacturer', 'hyundai'), ('model', 'sonata'), ('displ', '2.4'), ('year', '1999'), ('cyl', '4'), ('trans', 'manual(m5)'), ('drv', 'f'), ('cty', '18'), ('hwy', '27'), ('fl', 'r'), ('class', 'midsize')]), OrderedDict([('', '111'), ('manufacturer', 'hyundai'), ('model', 'sonata'), ('displ', '2.4'), ('year', '2008'), ('cyl', '4'), ('trans', 'auto(l4)'), ('drv', 'f'), ('cty', '21'), ('hwy', '30'), ('fl', 'r'), ('class', 'midsize')]), OrderedDict([('', '112'), ('manufacturer', 'hyundai'), ('model', 'sonata'), ('displ', '2.4'), ('year', '2008'), ('cyl', '4'), ('trans', 'manual(m5)'), ('drv', 'f'), ('cty', '21'), ('hwy', '31'), ('fl', 'r'), ('class', 'midsize')]), OrderedDict([('', '113'), ('manufacturer', 'hyundai'), ('model', 'sonata'), ('displ', '2.5'), ('year', '1999'), ('cyl', '6'), ('trans', 'auto(l4)'), ('drv', 'f'), ('cty', '18'), ('hwy', '26'), ('fl', 'r'), ('class', 'midsize')]), OrderedDict([('', '114'), ('manufacturer', 'hyundai'), ('model', 'sonata'), ('displ', '2.5'), ('year', '1999'), ('cyl', '6'), ('trans', 'manual(m5)'), ('drv', 'f'), ('cty', '18'), ('hwy', '26'), ('fl', 'r'), ('class', 'midsize')]), OrderedDict([('', '115'), ('manufacturer', 'hyundai'), ('model', 'sonata'), ('displ', '3.3'), ('year', '2008'), ('cyl', '6'), ('trans', 'auto(l5)'), ('drv', 'f'), ('cty', '19'), ('hwy', '28'), ('fl', 'r'), ('class', 'midsize')]), OrderedDict([('', '116'), ('manufacturer', 'hyundai'), ('model', 'tiburon'), ('displ', '2'), ('year', '1999'), ('cyl', '4'), ('trans', 'auto(l4)'), ('drv', 'f'), ('cty', '19'), ('hwy', '26'), ('fl', 'r'), ('class', 'subcompact')]), OrderedDict([('', '117'), ('manufacturer', 'hyundai'), ('model', 'tiburon'), ('displ', '2'), ('year', '1999'), ('cyl', '4'), ('trans', 'manual(m5)'), ('drv', 'f'), ('cty', '19'), ('hwy', '29'), ('fl', 'r'), ('class', 'subcompact')]), OrderedDict([('', '118'), ('manufacturer', 'hyundai'), ('model', 'tiburon'), ('displ', '2'), ('year', '2008'), ('cyl', '4'), ('trans', 'manual(m5)'), ('drv', 'f'), ('cty', '20'), ('hwy', '28'), ('fl', 'r'), ('class', 'subcompact')]), OrderedDict([('', '119'), ('manufacturer', 'hyundai'), ('model', 'tiburon'), ('displ', '2'), ('year', '2008'), ('cyl', '4'), ('trans', 'auto(l4)'), ('drv', 'f'), ('cty', '20'), ('hwy', '27'), ('fl', 'r'), ('class', 'subcompact')]), OrderedDict([('', '120'), ('manufacturer', 'hyundai'), ('model', 'tiburon'), ('displ', '2.7'), ('year', '2008'), ('cyl', '6'), ('trans', 'auto(l4)'), ('drv', 'f'), ('cty', '17'), ('hwy', '24'), ('fl', 'r'), ('class', 'subcompact')]), OrderedDict([('', '121'), ('manufacturer', 'hyundai'), ('model', 'tiburon'), ('displ', '2.7'), ('year', '2008'), ('cyl', '6'), ('trans', 'manual(m6)'), ('drv', 'f'), ('cty', '16'), ('hwy', '24'), ('fl', 'r'), ('class', 'subcompact')]), OrderedDict([('', '122'), ('manufacturer', 'hyundai'), ('model', 'tiburon'), ('displ', '2.7'), ('year', '2008'), ('cyl', '6'), ('trans', 'manual(m5)'), ('drv', 'f'), ('cty', '17'), ('hwy', '24'), ('fl', 'r'), ('class', 'subcompact')]), OrderedDict([('', '123'), ('manufacturer', 'jeep'), ('model', 'grand cherokee 4wd'), ('displ', '3'), ('year', '2008'), ('cyl', '6'), ('trans', 'auto(l5)'), ('drv', '4'), ('cty', '17'), ('hwy', '22'), ('fl', 'd'), ('class', 'suv')]), OrderedDict([('', '124'), ('manufacturer', 'jeep'), ('model', 'grand cherokee 4wd'), ('displ', '3.7'), ('year', '2008'), ('cyl', '6'), ('trans', 'auto(l5)'), ('drv', '4'), ('cty', '15'), ('hwy', '19'), ('fl', 'r'), ('class', 'suv')]), OrderedDict([('', '125'), ('manufacturer', 'jeep'), ('model', 'grand cherokee 4wd'), ('displ', '4'), ('year', '1999'), ('cyl', '6'), ('trans', 'auto(l4)'), ('drv', '4'), ('cty', '15'), ('hwy', '20'), ('fl', 'r'), ('class', 'suv')]), OrderedDict([('', '126'), ('manufacturer', 'jeep'), ('model', 'grand cherokee 4wd'), ('displ', '4.7'), ('year', '1999'), ('cyl', '8'), ('trans', 'auto(l4)'), ('drv', '4'), ('cty', '14'), ('hwy', '17'), ('fl', 'r'), ('class', 'suv')]), OrderedDict([('', '127'), ('manufacturer', 'jeep'), ('model', 'grand cherokee 4wd'), ('displ', '4.7'), ('year', '2008'), ('cyl', '8'), ('trans', 'auto(l5)'), ('drv', '4'), ('cty', '9'), ('hwy', '12'), ('fl', 'e'), ('class', 'suv')]), OrderedDict([('', '128'), ('manufacturer', 'jeep'), ('model', 'grand cherokee 4wd'), ('displ', '4.7'), ('year', '2008'), ('cyl', '8'), ('trans', 'auto(l5)'), ('drv', '4'), ('cty', '14'), ('hwy', '19'), ('fl', 'r'), ('class', 'suv')]), OrderedDict([('', '129'), ('manufacturer', 'jeep'), ('model', 'grand cherokee 4wd'), ('displ', '5.7'), ('year', '2008'), ('cyl', '8'), ('trans', 'auto(l5)'), ('drv', '4'), ('cty', '13'), ('hwy', '18'), ('fl', 'r'), ('class', 'suv')]), OrderedDict([('', '130'), ('manufacturer', 'jeep'), ('model', 'grand cherokee 4wd'), ('displ', '6.1'), ('year', '2008'), ('cyl', '8'), ('trans', 'auto(l5)'), ('drv', '4'), ('cty', '11'), ('hwy', '14'), ('fl', 'p'), ('class', 'suv')]), OrderedDict([('', '131'), ('manufacturer', 'land rover'), ('model', 'range rover'), ('displ', '4'), ('year', '1999'), ('cyl', '8'), ('trans', 'auto(l4)'), ('drv', '4'), ('cty', '11'), ('hwy', '15'), ('fl', 'p'), ('class', 'suv')]), OrderedDict([('', '132'), ('manufacturer', 'land rover'), ('model', 'range rover'), ('displ', '4.2'), ('year', '2008'), ('cyl', '8'), ('trans', 'auto(s6)'), ('drv', '4'), ('cty', '12'), ('hwy', '18'), ('fl', 'r'), ('class', 'suv')]), OrderedDict([('', '133'), ('manufacturer', 'land rover'), ('model', 'range rover'), ('displ', '4.4'), ('year', '2008'), ('cyl', '8'), ('trans', 'auto(s6)'), ('drv', '4'), ('cty', '12'), ('hwy', '18'), ('fl', 'r'), ('class', 'suv')]), OrderedDict([('', '134'), ('manufacturer', 'land rover'), ('model', 'range rover'), ('displ', '4.6'), ('year', '1999'), ('cyl', '8'), ('trans', 'auto(l4)'), ('drv', '4'), ('cty', '11'), ('hwy', '15'), ('fl', 'p'), ('class', 'suv')]), OrderedDict([('', '135'), ('manufacturer', 'lincoln'), ('model', 'navigator 2wd'), ('displ', '5.4'), ('year', '1999'), ('cyl', '8'), ('trans', 'auto(l4)'), ('drv', 'r'), ('cty', '11'), ('hwy', '17'), ('fl', 'r'), ('class', 'suv')]), OrderedDict([('', '136'), ('manufacturer', 'lincoln'), ('model', 'navigator 2wd'), ('displ', '5.4'), ('year', '1999'), ('cyl', '8'), ('trans', 'auto(l4)'), ('drv', 'r'), ('cty', '11'), ('hwy', '16'), ('fl', 'p'), ('class', 'suv')]), OrderedDict([('', '137'), ('manufacturer', 'lincoln'), ('model', 'navigator 2wd'), ('displ', '5.4'), ('year', '2008'), ('cyl', '8'), ('trans', 'auto(l6)'), ('drv', 'r'), ('cty', '12'), ('hwy', '18'), ('fl', 'r'), ('class', 'suv')]), OrderedDict([('', '138'), ('manufacturer', 'mercury'), ('model', 'mountaineer 4wd'), ('displ', '4'), ('year', '1999'), ('cyl', '6'), ('trans', 'auto(l5)'), ('drv', '4'), ('cty', '14'), ('hwy', '17'), ('fl', 'r'), ('class', 'suv')]), OrderedDict([('', '139'), ('manufacturer', 'mercury'), ('model', 'mountaineer 4wd'), ('displ', '4'), ('year', '2008'), ('cyl', '6'), ('trans', 'auto(l5)'), ('drv', '4'), ('cty', '13'), ('hwy', '19'), ('fl', 'r'), ('class', 'suv')]), OrderedDict([('', '140'), ('manufacturer', 'mercury'), ('model', 'mountaineer 4wd'), ('displ', '4.6'), ('year', '2008'), ('cyl', '8'), ('trans', 'auto(l6)'), ('drv', '4'), ('cty', '13'), ('hwy', '19'), ('fl', 'r'), ('class', 'suv')]), OrderedDict([('', '141'), ('manufacturer', 'mercury'), ('model', 'mountaineer 4wd'), ('displ', '5'), ('year', '1999'), ('cyl', '8'), ('trans', 'auto(l4)'), ('drv', '4'), ('cty', '13'), ('hwy', '17'), ('fl', 'r'), ('class', 'suv')]), OrderedDict([('', '142'), ('manufacturer', 'nissan'), ('model', 'altima'), ('displ', '2.4'), ('year', '1999'), ('cyl', '4'), ('trans', 'manual(m5)'), ('drv', 'f'), ('cty', '21'), ('hwy', '29'), ('fl', 'r'), ('class', 'compact')]), OrderedDict([('', '143'), ('manufacturer', 'nissan'), ('model', 'altima'), ('displ', '2.4'), ('year', '1999'), ('cyl', '4'), ('trans', 'auto(l4)'), ('drv', 'f'), ('cty', '19'), ('hwy', '27'), ('fl', 'r'), ('class', 'compact')]), OrderedDict([('', '144'), ('manufacturer', 'nissan'), ('model', 'altima'), ('displ', '2.5'), ('year', '2008'), ('cyl', '4'), ('trans', 'auto(av)'), ('drv', 'f'), ('cty', '23'), ('hwy', '31'), ('fl', 'r'), ('class', 'midsize')]), OrderedDict([('', '145'), ('manufacturer', 'nissan'), ('model', 'altima'), ('displ', '2.5'), ('year', '2008'), ('cyl', '4'), ('trans', 'manual(m6)'), ('drv', 'f'), ('cty', '23'), ('hwy', '32'), ('fl', 'r'), ('class', 'midsize')]), OrderedDict([('', '146'), ('manufacturer', 'nissan'), ('model', 'altima'), ('displ', '3.5'), ('year', '2008'), ('cyl', '6'), ('trans', 'manual(m6)'), ('drv', 'f'), ('cty', '19'), ('hwy', '27'), ('fl', 'p'), ('class', 'midsize')]), OrderedDict([('', '147'), ('manufacturer', 'nissan'), ('model', 'altima'), ('displ', '3.5'), ('year', '2008'), ('cyl', '6'), ('trans', 'auto(av)'), ('drv', 'f'), ('cty', '19'), ('hwy', '26'), ('fl', 'p'), ('class', 'midsize')]), OrderedDict([('', '148'), ('manufacturer', 'nissan'), ('model', 'maxima'), ('displ', '3'), ('year', '1999'), ('cyl', '6'), ('trans', 'auto(l4)'), ('drv', 'f'), ('cty', '18'), ('hwy', '26'), ('fl', 'r'), ('class', 'midsize')]), OrderedDict([('', '149'), ('manufacturer', 'nissan'), ('model', 'maxima'), ('displ', '3'), ('year', '1999'), ('cyl', '6'), ('trans', 'manual(m5)'), ('drv', 'f'), ('cty', '19'), ('hwy', '25'), ('fl', 'r'), ('class', 'midsize')]), OrderedDict([('', '150'), ('manufacturer', 'nissan'), ('model', 'maxima'), ('displ', '3.5'), ('year', '2008'), ('cyl', '6'), ('trans', 'auto(av)'), ('drv', 'f'), ('cty', '19'), ('hwy', '25'), ('fl', 'p'), ('class', 'midsize')]), OrderedDict([('', '151'), ('manufacturer', 'nissan'), ('model', 'pathfinder 4wd'), ('displ', '3.3'), ('year', '1999'), ('cyl', '6'), ('trans', 'auto(l4)'), ('drv', '4'), ('cty', '14'), ('hwy', '17'), ('fl', 'r'), ('class', 'suv')]), OrderedDict([('', '152'), ('manufacturer', 'nissan'), ('model', 'pathfinder 4wd'), ('displ', '3.3'), ('year', '1999'), ('cyl', '6'), ('trans', 'manual(m5)'), ('drv', '4'), ('cty', '15'), ('hwy', '17'), ('fl', 'r'), ('class', 'suv')]), OrderedDict([('', '153'), ('manufacturer', 'nissan'), ('model', 'pathfinder 4wd'), ('displ', '4'), ('year', '2008'), ('cyl', '6'), ('trans', 'auto(l5)'), ('drv', '4'), ('cty', '14'), ('hwy', '20'), ('fl', 'p'), ('class', 'suv')]), OrderedDict([('', '154'), ('manufacturer', 'nissan'), ('model', 'pathfinder 4wd'), ('displ', '5.6'), ('year', '2008'), ('cyl', '8'), ('trans', 'auto(s5)'), ('drv', '4'), ('cty', '12'), ('hwy', '18'), ('fl', 'p'), ('class', 'suv')]), OrderedDict([('', '155'), ('manufacturer', 'pontiac'), ('model', 'grand prix'), ('displ', '3.1'), ('year', '1999'), ('cyl', '6'), ('trans', 'auto(l4)'), ('drv', 'f'), ('cty', '18'), ('hwy', '26'), ('fl', 'r'), ('class', 'midsize')]), OrderedDict([('', '156'), ('manufacturer', 'pontiac'), ('model', 'grand prix'), ('displ', '3.8'), ('year', '1999'), ('cyl', '6'), ('trans', 'auto(l4)'), ('drv', 'f'), ('cty', '16'), ('hwy', '26'), ('fl', 'p'), ('class', 'midsize')]), OrderedDict([('', '157'), ('manufacturer', 'pontiac'), ('model', 'grand prix'), ('displ', '3.8'), ('year', '1999'), ('cyl', '6'), ('trans', 'auto(l4)'), ('drv', 'f'), ('cty', '17'), ('hwy', '27'), ('fl', 'r'), ('class', 'midsize')]), OrderedDict([('', '158'), ('manufacturer', 'pontiac'), ('model', 'grand prix'), ('displ', '3.8'), ('year', '2008'), ('cyl', '6'), ('trans', 'auto(l4)'), ('drv', 'f'), ('cty', '18'), ('hwy', '28'), ('fl', 'r'), ('class', 'midsize')]), OrderedDict([('', '159'), ('manufacturer', 'pontiac'), ('model', 'grand prix'), ('displ', '5.3'), ('year', '2008'), ('cyl', '8'), ('trans', 'auto(s4)'), ('drv', 'f'), ('cty', '16'), ('hwy', '25'), ('fl', 'p'), ('class', 'midsize')]), OrderedDict([('', '160'), ('manufacturer', 'subaru'), ('model', 'forester awd'), ('displ', '2.5'), ('year', '1999'), ('cyl', '4'), ('trans', 'manual(m5)'), ('drv', '4'), ('cty', '18'), ('hwy', '25'), ('fl', 'r'), ('class', 'suv')]), OrderedDict([('', '161'), ('manufacturer', 'subaru'), ('model', 'forester awd'), ('displ', '2.5'), ('year', '1999'), ('cyl', '4'), ('trans', 'auto(l4)'), ('drv', '4'), ('cty', '18'), ('hwy', '24'), ('fl', 'r'), ('class', 'suv')]), OrderedDict([('', '162'), ('manufacturer', 'subaru'), ('model', 'forester awd'), ('displ', '2.5'), ('year', '2008'), ('cyl', '4'), ('trans', 'manual(m5)'), ('drv', '4'), ('cty', '20'), ('hwy', '27'), ('fl', 'r'), ('class', 'suv')]), OrderedDict([('', '163'), ('manufacturer', 'subaru'), ('model', 'forester awd'), ('displ', '2.5'), ('year', '2008'), ('cyl', '4'), ('trans', 'manual(m5)'), ('drv', '4'), ('cty', '19'), ('hwy', '25'), ('fl', 'p'), ('class', 'suv')]), OrderedDict([('', '164'), ('manufacturer', 'subaru'), ('model', 'forester awd'), ('displ', '2.5'), ('year', '2008'), ('cyl', '4'), ('trans', 'auto(l4)'), ('drv', '4'), ('cty', '20'), ('hwy', '26'), ('fl', 'r'), ('class', 'suv')]), OrderedDict([('', '165'), ('manufacturer', 'subaru'), ('model', 'forester awd'), ('displ', '2.5'), ('year', '2008'), ('cyl', '4'), ('trans', 'auto(l4)'), ('drv', '4'), ('cty', '18'), ('hwy', '23'), ('fl', 'p'), ('class', 'suv')]), OrderedDict([('', '166'), ('manufacturer', 'subaru'), ('model', 'impreza awd'), ('displ', '2.2'), ('year', '1999'), ('cyl', '4'), ('trans', 'auto(l4)'), ('drv', '4'), ('cty', '21'), ('hwy', '26'), ('fl', 'r'), ('class', 'subcompact')]), OrderedDict([('', '167'), ('manufacturer', 'subaru'), ('model', 'impreza awd'), ('displ', '2.2'), ('year', '1999'), ('cyl', '4'), ('trans', 'manual(m5)'), ('drv', '4'), ('cty', '19'), ('hwy', '26'), ('fl', 'r'), ('class', 'subcompact')]), OrderedDict([('', '168'), ('manufacturer', 'subaru'), ('model', 'impreza awd'), ('displ', '2.5'), ('year', '1999'), ('cyl', '4'), ('trans', 'manual(m5)'), ('drv', '4'), ('cty', '19'), ('hwy', '26'), ('fl', 'r'), ('class', 'subcompact')]), OrderedDict([('', '169'), ('manufacturer', 'subaru'), ('model', 'impreza awd'), ('displ', '2.5'), ('year', '1999'), ('cyl', '4'), ('trans', 'auto(l4)'), ('drv', '4'), ('cty', '19'), ('hwy', '26'), ('fl', 'r'), ('class', 'subcompact')]), OrderedDict([('', '170'), ('manufacturer', 'subaru'), ('model', 'impreza awd'), ('displ', '2.5'), ('year', '2008'), ('cyl', '4'), ('trans', 'auto(s4)'), ('drv', '4'), ('cty', '20'), ('hwy', '25'), ('fl', 'p'), ('class', 'compact')]), OrderedDict([('', '171'), ('manufacturer', 'subaru'), ('model', 'impreza awd'), ('displ', '2.5'), ('year', '2008'), ('cyl', '4'), ('trans', 'auto(s4)'), ('drv', '4'), ('cty', '20'), ('hwy', '27'), ('fl', 'r'), ('class', 'compact')]), OrderedDict([('', '172'), ('manufacturer', 'subaru'), ('model', 'impreza awd'), ('displ', '2.5'), ('year', '2008'), ('cyl', '4'), ('trans', 'manual(m5)'), ('drv', '4'), ('cty', '19'), ('hwy', '25'), ('fl', 'p'), ('class', 'compact')]), OrderedDict([('', '173'), ('manufacturer', 'subaru'), ('model', 'impreza awd'), ('displ', '2.5'), ('year', '2008'), ('cyl', '4'), ('trans', 'manual(m5)'), ('drv', '4'), ('cty', '20'), ('hwy', '27'), ('fl', 'r'), ('class', 'compact')]), OrderedDict([('', '174'), ('manufacturer', 'toyota'), ('model', '4runner 4wd'), ('displ', '2.7'), ('year', '1999'), ('cyl', '4'), ('trans', 'manual(m5)'), ('drv', '4'), ('cty', '15'), ('hwy', '20'), ('fl', 'r'), ('class', 'suv')]), OrderedDict([('', '175'), ('manufacturer', 'toyota'), ('model', '4runner 4wd'), ('displ', '2.7'), ('year', '1999'), ('cyl', '4'), ('trans', 'auto(l4)'), ('drv', '4'), ('cty', '16'), ('hwy', '20'), ('fl', 'r'), ('class', 'suv')]), OrderedDict([('', '176'), ('manufacturer', 'toyota'), ('model', '4runner 4wd'), ('displ', '3.4'), ('year', '1999'), ('cyl', '6'), ('trans', 'auto(l4)'), ('drv', '4'), ('cty', '15'), ('hwy', '19'), ('fl', 'r'), ('class', 'suv')]), OrderedDict([('', '177'), ('manufacturer', 'toyota'), ('model', '4runner 4wd'), ('displ', '3.4'), ('year', '1999'), ('cyl', '6'), ('trans', 'manual(m5)'), ('drv', '4'), ('cty', '15'), ('hwy', '17'), ('fl', 'r'), ('class', 'suv')]), OrderedDict([('', '178'), ('manufacturer', 'toyota'), ('model', '4runner 4wd'), ('displ', '4'), ('year', '2008'), ('cyl', '6'), ('trans', 'auto(l5)'), ('drv', '4'), ('cty', '16'), ('hwy', '20'), ('fl', 'r'), ('class', 'suv')]), OrderedDict([('', '179'), ('manufacturer', 'toyota'), ('model', '4runner 4wd'), ('displ', '4.7'), ('year', '2008'), ('cyl', '8'), ('trans', 'auto(l5)'), ('drv', '4'), ('cty', '14'), ('hwy', '17'), ('fl', 'r'), ('class', 'suv')]), OrderedDict([('', '180'), ('manufacturer', 'toyota'), ('model', 'camry'), ('displ', '2.2'), ('year', '1999'), ('cyl', '4'), ('trans', 'manual(m5)'), ('drv', 'f'), ('cty', '21'), ('hwy', '29'), ('fl', 'r'), ('class', 'midsize')]), OrderedDict([('', '181'), ('manufacturer', 'toyota'), ('model', 'camry'), ('displ', '2.2'), ('year', '1999'), ('cyl', '4'), ('trans', 'auto(l4)'), ('drv', 'f'), ('cty', '21'), ('hwy', '27'), ('fl', 'r'), ('class', 'midsize')]), OrderedDict([('', '182'), ('manufacturer', 'toyota'), ('model', 'camry'), ('displ', '2.4'), ('year', '2008'), ('cyl', '4'), ('trans', 'manual(m5)'), ('drv', 'f'), ('cty', '21'), ('hwy', '31'), ('fl', 'r'), ('class', 'midsize')]), OrderedDict([('', '183'), ('manufacturer', 'toyota'), ('model', 'camry'), ('displ', '2.4'), ('year', '2008'), ('cyl', '4'), ('trans', 'auto(l5)'), ('drv', 'f'), ('cty', '21'), ('hwy', '31'), ('fl', 'r'), ('class', 'midsize')]), OrderedDict([('', '184'), ('manufacturer', 'toyota'), ('model', 'camry'), ('displ', '3'), ('year', '1999'), ('cyl', '6'), ('trans', 'auto(l4)'), ('drv', 'f'), ('cty', '18'), ('hwy', '26'), ('fl', 'r'), ('class', 'midsize')]), OrderedDict([('', '185'), ('manufacturer', 'toyota'), ('model', 'camry'), ('displ', '3'), ('year', '1999'), ('cyl', '6'), ('trans', 'manual(m5)'), ('drv', 'f'), ('cty', '18'), ('hwy', '26'), ('fl', 'r'), ('class', 'midsize')]), OrderedDict([('', '186'), ('manufacturer', 'toyota'), ('model', 'camry'), ('displ', '3.5'), ('year', '2008'), ('cyl', '6'), ('trans', 'auto(s6)'), ('drv', 'f'), ('cty', '19'), ('hwy', '28'), ('fl', 'r'), ('class', 'midsize')]), OrderedDict([('', '187'), ('manufacturer', 'toyota'), ('model', 'camry solara'), ('displ', '2.2'), ('year', '1999'), ('cyl', '4'), ('trans', 'auto(l4)'), ('drv', 'f'), ('cty', '21'), ('hwy', '27'), ('fl', 'r'), ('class', 'compact')]), OrderedDict([('', '188'), ('manufacturer', 'toyota'), ('model', 'camry solara'), ('displ', '2.2'), ('year', '1999'), ('cyl', '4'), ('trans', 'manual(m5)'), ('drv', 'f'), ('cty', '21'), ('hwy', '29'), ('fl', 'r'), ('class', 'compact')]), OrderedDict([('', '189'), ('manufacturer', 'toyota'), ('model', 'camry solara'), ('displ', '2.4'), ('year', '2008'), ('cyl', '4'), ('trans', 'manual(m5)'), ('drv', 'f'), ('cty', '21'), ('hwy', '31'), ('fl', 'r'), ('class', 'compact')]), OrderedDict([('', '190'), ('manufacturer', 'toyota'), ('model', 'camry solara'), ('displ', '2.4'), ('year', '2008'), ('cyl', '4'), ('trans', 'auto(s5)'), ('drv', 'f'), ('cty', '22'), ('hwy', '31'), ('fl', 'r'), ('class', 'compact')]), OrderedDict([('', '191'), ('manufacturer', 'toyota'), ('model', 'camry solara'), ('displ', '3'), ('year', '1999'), ('cyl', '6'), ('trans', 'auto(l4)'), ('drv', 'f'), ('cty', '18'), ('hwy', '26'), ('fl', 'r'), ('class', 'compact')]), OrderedDict([('', '192'), ('manufacturer', 'toyota'), ('model', 'camry solara'), ('displ', '3'), ('year', '1999'), ('cyl', '6'), ('trans', 'manual(m5)'), ('drv', 'f'), ('cty', '18'), ('hwy', '26'), ('fl', 'r'), ('class', 'compact')]), OrderedDict([('', '193'), ('manufacturer', 'toyota'), ('model', 'camry solara'), ('displ', '3.3'), ('year', '2008'), ('cyl', '6'), ('trans', 'auto(s5)'), ('drv', 'f'), ('cty', '18'), ('hwy', '27'), ('fl', 'r'), ('class', 'compact')]), OrderedDict([('', '194'), ('manufacturer', 'toyota'), ('model', 'corolla'), ('displ', '1.8'), ('year', '1999'), ('cyl', '4'), ('trans', 'auto(l3)'), ('drv', 'f'), ('cty', '24'), ('hwy', '30'), ('fl', 'r'), ('class', 'compact')]), OrderedDict([('', '195'), ('manufacturer', 'toyota'), ('model', 'corolla'), ('displ', '1.8'), ('year', '1999'), ('cyl', '4'), ('trans', 'auto(l4)'), ('drv', 'f'), ('cty', '24'), ('hwy', '33'), ('fl', 'r'), ('class', 'compact')]), OrderedDict([('', '196'), ('manufacturer', 'toyota'), ('model', 'corolla'), ('displ', '1.8'), ('year', '1999'), ('cyl', '4'), ('trans', 'manual(m5)'), ('drv', 'f'), ('cty', '26'), ('hwy', '35'), ('fl', 'r'), ('class', 'compact')]), OrderedDict([('', '197'), ('manufacturer', 'toyota'), ('model', 'corolla'), ('displ', '1.8'), ('year', '2008'), ('cyl', '4'), ('trans', 'manual(m5)'), ('drv', 'f'), ('cty', '28'), ('hwy', '37'), ('fl', 'r'), ('class', 'compact')]), OrderedDict([('', '198'), ('manufacturer', 'toyota'), ('model', 'corolla'), ('displ', '1.8'), ('year', '2008'), ('cyl', '4'), ('trans', 'auto(l4)'), ('drv', 'f'), ('cty', '26'), ('hwy', '35'), ('fl', 'r'), ('class', 'compact')]), OrderedDict([('', '199'), ('manufacturer', 'toyota'), ('model', 'land cruiser wagon 4wd'), ('displ', '4.7'), ('year', '1999'), ('cyl', '8'), ('trans', 'auto(l4)'), ('drv', '4'), ('cty', '11'), ('hwy', '15'), ('fl', 'r'), ('class', 'suv')]), OrderedDict([('', '200'), ('manufacturer', 'toyota'), ('model', 'land cruiser wagon 4wd'), ('displ', '5.7'), ('year', '2008'), ('cyl', '8'), ('trans', 'auto(s6)'), ('drv', '4'), ('cty', '13'), ('hwy', '18'), ('fl', 'r'), ('class', 'suv')]), OrderedDict([('', '201'), ('manufacturer', 'toyota'), ('model', 'toyota tacoma 4wd'), ('displ', '2.7'), ('year', '1999'), ('cyl', '4'), ('trans', 'manual(m5)'), ('drv', '4'), ('cty', '15'), ('hwy', '20'), ('fl', 'r'), ('class', 'pickup')]), OrderedDict([('', '202'), ('manufacturer', 'toyota'), ('model', 'toyota tacoma 4wd'), ('displ', '2.7'), ('year', '1999'), ('cyl', '4'), ('trans', 'auto(l4)'), ('drv', '4'), ('cty', '16'), ('hwy', '20'), ('fl', 'r'), ('class', 'pickup')]), OrderedDict([('', '203'), ('manufacturer', 'toyota'), ('model', 'toyota tacoma 4wd'), ('displ', '2.7'), ('year', '2008'), ('cyl', '4'), ('trans', 'manual(m5)'), ('drv', '4'), ('cty', '17'), ('hwy', '22'), ('fl', 'r'), ('class', 'pickup')]), OrderedDict([('', '204'), ('manufacturer', 'toyota'), ('model', 'toyota tacoma 4wd'), ('displ', '3.4'), ('year', '1999'), ('cyl', '6'), ('trans', 'manual(m5)'), ('drv', '4'), ('cty', '15'), ('hwy', '17'), ('fl', 'r'), ('class', 'pickup')]), OrderedDict([('', '205'), ('manufacturer', 'toyota'), ('model', 'toyota tacoma 4wd'), ('displ', '3.4'), ('year', '1999'), ('cyl', '6'), ('trans', 'auto(l4)'), ('drv', '4'), ('cty', '15'), ('hwy', '19'), ('fl', 'r'), ('class', 'pickup')]), OrderedDict([('', '206'), ('manufacturer', 'toyota'), ('model', 'toyota tacoma 4wd'), ('displ', '4'), ('year', '2008'), ('cyl', '6'), ('trans', 'manual(m6)'), ('drv', '4'), ('cty', '15'), ('hwy', '18'), ('fl', 'r'), ('class', 'pickup')]), OrderedDict([('', '207'), ('manufacturer', 'toyota'), ('model', 'toyota tacoma 4wd'), ('displ', '4'), ('year', '2008'), ('cyl', '6'), ('trans', 'auto(l5)'), ('drv', '4'), ('cty', '16'), ('hwy', '20'), ('fl', 'r'), ('class', 'pickup')]), OrderedDict([('', '208'), ('manufacturer', 'volkswagen'), ('model', 'gti'), ('displ', '2'), ('year', '1999'), ('cyl', '4'), ('trans', 'manual(m5)'), ('drv', 'f'), ('cty', '21'), ('hwy', '29'), ('fl', 'r'), ('class', 'compact')]), OrderedDict([('', '209'), ('manufacturer', 'volkswagen'), ('model', 'gti'), ('displ', '2'), ('year', '1999'), ('cyl', '4'), ('trans', 'auto(l4)'), ('drv', 'f'), ('cty', '19'), ('hwy', '26'), ('fl', 'r'), ('class', 'compact')]), OrderedDict([('', '210'), ('manufacturer', 'volkswagen'), ('model', 'gti'), ('displ', '2'), ('year', '2008'), ('cyl', '4'), ('trans', 'manual(m6)'), ('drv', 'f'), ('cty', '21'), ('hwy', '29'), ('fl', 'p'), ('class', 'compact')]), OrderedDict([('', '211'), ('manufacturer', 'volkswagen'), ('model', 'gti'), ('displ', '2'), ('year', '2008'), ('cyl', '4'), ('trans', 'auto(s6)'), ('drv', 'f'), ('cty', '22'), ('hwy', '29'), ('fl', 'p'), ('class', 'compact')]), OrderedDict([('', '212'), ('manufacturer', 'volkswagen'), ('model', 'gti'), ('displ', '2.8'), ('year', '1999'), ('cyl', '6'), ('trans', 'manual(m5)'), ('drv', 'f'), ('cty', '17'), ('hwy', '24'), ('fl', 'r'), ('class', 'compact')]), OrderedDict([('', '213'), ('manufacturer', 'volkswagen'), ('model', 'jetta'), ('displ', '1.9'), ('year', '1999'), ('cyl', '4'), ('trans', 'manual(m5)'), ('drv', 'f'), ('cty', '33'), ('hwy', '44'), ('fl', 'd'), ('class', 'compact')]), OrderedDict([('', '214'), ('manufacturer', 'volkswagen'), ('model', 'jetta'), ('displ', '2'), ('year', '1999'), ('cyl', '4'), ('trans', 'manual(m5)'), ('drv', 'f'), ('cty', '21'), ('hwy', '29'), ('fl', 'r'), ('class', 'compact')]), OrderedDict([('', '215'), ('manufacturer', 'volkswagen'), ('model', 'jetta'), ('displ', '2'), ('year', '1999'), ('cyl', '4'), ('trans', 'auto(l4)'), ('drv', 'f'), ('cty', '19'), ('hwy', '26'), ('fl', 'r'), ('class', 'compact')]), OrderedDict([('', '216'), ('manufacturer', 'volkswagen'), ('model', 'jetta'), ('displ', '2'), ('year', '2008'), ('cyl', '4'), ('trans', 'auto(s6)'), ('drv', 'f'), ('cty', '22'), ('hwy', '29'), ('fl', 'p'), ('class', 'compact')]), OrderedDict([('', '217'), ('manufacturer', 'volkswagen'), ('model', 'jetta'), ('displ', '2'), ('year', '2008'), ('cyl', '4'), ('trans', 'manual(m6)'), ('drv', 'f'), ('cty', '21'), ('hwy', '29'), ('fl', 'p'), ('class', 'compact')]), OrderedDict([('', '218'), ('manufacturer', 'volkswagen'), ('model', 'jetta'), ('displ', '2.5'), ('year', '2008'), ('cyl', '5'), ('trans', 'auto(s6)'), ('drv', 'f'), ('cty', '21'), ('hwy', '29'), ('fl', 'r'), ('class', 'compact')]), OrderedDict([('', '219'), ('manufacturer', 'volkswagen'), ('model', 'jetta'), ('displ', '2.5'), ('year', '2008'), ('cyl', '5'), ('trans', 'manual(m5)'), ('drv', 'f'), ('cty', '21'), ('hwy', '29'), ('fl', 'r'), ('class', 'compact')]), OrderedDict([('', '220'), ('manufacturer', 'volkswagen'), ('model', 'jetta'), ('displ', '2.8'), ('year', '1999'), ('cyl', '6'), ('trans', 'auto(l4)'), ('drv', 'f'), ('cty', '16'), ('hwy', '23'), ('fl', 'r'), ('class', 'compact')]), OrderedDict([('', '221'), ('manufacturer', 'volkswagen'), ('model', 'jetta'), ('displ', '2.8'), ('year', '1999'), ('cyl', '6'), ('trans', 'manual(m5)'), ('drv', 'f'), ('cty', '17'), ('hwy', '24'), ('fl', 'r'), ('class', 'compact')]), OrderedDict([('', '222'), ('manufacturer', 'volkswagen'), ('model', 'new beetle'), ('displ', '1.9'), ('year', '1999'), ('cyl', '4'), ('trans', 'manual(m5)'), ('drv', 'f'), ('cty', '35'), ('hwy', '44'), ('fl', 'd'), ('class', 'subcompact')]), OrderedDict([('', '223'), ('manufacturer', 'volkswagen'), ('model', 'new beetle'), ('displ', '1.9'), ('year', '1999'), ('cyl', '4'), ('trans', 'auto(l4)'), ('drv', 'f'), ('cty', '29'), ('hwy', '41'), ('fl', 'd'), ('class', 'subcompact')]), OrderedDict([('', '224'), ('manufacturer', 'volkswagen'), ('model', 'new beetle'), ('displ', '2'), ('year', '1999'), ('cyl', '4'), ('trans', 'manual(m5)'), ('drv', 'f'), ('cty', '21'), ('hwy', '29'), ('fl', 'r'), ('class', 'subcompact')]), OrderedDict([('', '225'), ('manufacturer', 'volkswagen'), ('model', 'new beetle'), ('displ', '2'), ('year', '1999'), ('cyl', '4'), ('trans', 'auto(l4)'), ('drv', 'f'), ('cty', '19'), ('hwy', '26'), ('fl', 'r'), ('class', 'subcompact')]), OrderedDict([('', '226'), ('manufacturer', 'volkswagen'), ('model', 'new beetle'), ('displ', '2.5'), ('year', '2008'), ('cyl', '5'), ('trans', 'manual(m5)'), ('drv', 'f'), ('cty', '20'), ('hwy', '28'), ('fl', 'r'), ('class', 'subcompact')]), OrderedDict([('', '227'), ('manufacturer', 'volkswagen'), ('model', 'new beetle'), ('displ', '2.5'), ('year', '2008'), ('cyl', '5'), ('trans', 'auto(s6)'), ('drv', 'f'), ('cty', '20'), ('hwy', '29'), ('fl', 'r'), ('class', 'subcompact')]), OrderedDict([('', '228'), ('manufacturer', 'volkswagen'), ('model', 'passat'), ('displ', '1.8'), ('year', '1999'), ('cyl', '4'), ('trans', 'manual(m5)'), ('drv', 'f'), ('cty', '21'), ('hwy', '29'), ('fl', 'p'), ('class', 'midsize')]), OrderedDict([('', '229'), ('manufacturer', 'volkswagen'), ('model', 'passat'), ('displ', '1.8'), ('year', '1999'), ('cyl', '4'), ('trans', 'auto(l5)'), ('drv', 'f'), ('cty', '18'), ('hwy', '29'), ('fl', 'p'), ('class', 'midsize')]), OrderedDict([('', '230'), ('manufacturer', 'volkswagen'), ('model', 'passat'), ('displ', '2'), ('year', '2008'), ('cyl', '4'), ('trans', 'auto(s6)'), ('drv', 'f'), ('cty', '19'), ('hwy', '28'), ('fl', 'p'), ('class', 'midsize')]), OrderedDict([('', '231'), ('manufacturer', 'volkswagen'), ('model', 'passat'), ('displ', '2'), ('year', '2008'), ('cyl', '4'), ('trans', 'manual(m6)'), ('drv', 'f'), ('cty', '21'), ('hwy', '29'), ('fl', 'p'), ('class', 'midsize')]), OrderedDict([('', '232'), ('manufacturer', 'volkswagen'), ('model', 'passat'), ('displ', '2.8'), ('year', '1999'), ('cyl', '6'), ('trans', 'auto(l5)'), ('drv', 'f'), ('cty', '16'), ('hwy', '26'), ('fl', 'p'), ('class', 'midsize')]), OrderedDict([('', '233'), ('manufacturer', 'volkswagen'), ('model', 'passat'), ('displ', '2.8'), ('year', '1999'), ('cyl', '6'), ('trans', 'manual(m5)'), ('drv', 'f'), ('cty', '18'), ('hwy', '26'), ('fl', 'p'), ('class', 'midsize')]), OrderedDict([('', '234'), ('manufacturer', 'volkswagen'), ('model', 'passat'), ('displ', '3.6'), ('year', '2008'), ('cyl', '6'), ('trans', 'auto(s6)'), ('drv', 'f'), ('cty', '17'), ('hwy', '26'), ('fl', 'p'), ('class', 'midsize')])]\n"
     ]
    }
   ],
   "source": [
    "print(mpg)"
   ]
  },
  {
   "cell_type": "code",
   "execution_count": 12,
   "metadata": {},
   "outputs": [
    {
     "data": {
      "text/plain": [
       "odict_keys(['', 'manufacturer', 'model', 'displ', 'year', 'cyl', 'trans', 'drv', 'cty', 'hwy', 'fl', 'class'])"
      ]
     },
     "execution_count": 12,
     "metadata": {},
     "output_type": "execute_result"
    }
   ],
   "source": [
    "mpg[0].keys()"
   ]
  },
  {
   "cell_type": "code",
   "execution_count": 14,
   "metadata": {},
   "outputs": [
    {
     "data": {
      "text/plain": [
       "16.86"
      ]
     },
     "execution_count": 14,
     "metadata": {},
     "output_type": "execute_result"
    }
   ],
   "source": [
    "%precision 2\n",
    "sum(float(d['cty']) for d in mpg)/ len(mpg)"
   ]
  },
  {
   "cell_type": "code",
   "execution_count": 17,
   "metadata": {},
   "outputs": [
    {
     "data": {
      "text/plain": [
       "{'1999', '2008'}"
      ]
     },
     "execution_count": 17,
     "metadata": {},
     "output_type": "execute_result"
    }
   ],
   "source": [
    "year = set(d['year'] for d in mpg)\n",
    "year"
   ]
  },
  {
   "cell_type": "code",
   "execution_count": null,
   "metadata": {},
   "outputs": [],
   "source": []
  }
 ],
 "metadata": {
  "kernelspec": {
   "display_name": "Python 3",
   "language": "python",
   "name": "python3"
  },
  "language_info": {
   "codemirror_mode": {
    "name": "ipython",
    "version": 3
   },
   "file_extension": ".py",
   "mimetype": "text/x-python",
   "name": "python",
   "nbconvert_exporter": "python",
   "pygments_lexer": "ipython3",
   "version": "3.7.5"
  }
 },
 "nbformat": 4,
 "nbformat_minor": 4
}
